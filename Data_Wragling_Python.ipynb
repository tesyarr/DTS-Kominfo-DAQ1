{
  "nbformat": 4,
  "nbformat_minor": 0,
  "metadata": {
    "colab": {
      "provenance": [],
      "authorship_tag": "ABX9TyN76oWomwf4k4P/Hr6SLCv/",
      "include_colab_link": true
    },
    "kernelspec": {
      "name": "python3",
      "display_name": "Python 3"
    },
    "language_info": {
      "name": "python"
    }
  },
  "cells": [
    {
      "cell_type": "markdown",
      "metadata": {
        "id": "view-in-github",
        "colab_type": "text"
      },
      "source": [
        "<a href=\"https://colab.research.google.com/github/tesyarr/DTS-Kominfo-DAQ1/blob/main/Data_Wragling_Python.ipynb\" target=\"_parent\"><img src=\"https://colab.research.google.com/assets/colab-badge.svg\" alt=\"Open In Colab\"/></a>"
      ]
    },
    {
      "cell_type": "code",
      "execution_count": null,
      "metadata": {
        "colab": {
          "base_uri": "https://localhost:8080/"
        },
        "id": "06D73n5eajWC",
        "outputId": "30b216d4-8577-44d7-c757-68474131a57a"
      },
      "outputs": [
        {
          "output_type": "stream",
          "name": "stdout",
          "text": [
            "     CustomerID   Genre  Age  Annual Income (k$)  Spending Score (1-100)\n",
            "0             1    Male   19                  15                      39\n",
            "1             2    Male   21                  15                      81\n",
            "2             3  Female   20                  16                       6\n",
            "3             4  Female   23                  16                      77\n",
            "4             5  Female   31                  17                      40\n",
            "..          ...     ...  ...                 ...                     ...\n",
            "195         196  Female   35                 120                      79\n",
            "196         197  Female   45                 126                      28\n",
            "197         198    Male   32                 126                      74\n",
            "198         199    Male   32                 137                      18\n",
            "199         200    Male   30                 137                      83\n",
            "\n",
            "[200 rows x 5 columns]\n"
          ]
        }
      ],
      "source": [
        "import pandas as pd\n",
        "\n",
        "csv_data = pd.read_csv(\"https://storage.googleapis.com/dqlab-dataset/shopping_data.csv\")\n",
        "\n",
        "print(csv_data)"
      ]
    },
    {
      "cell_type": "code",
      "source": [
        "print(csv_data.head())"
      ],
      "metadata": {
        "colab": {
          "base_uri": "https://localhost:8080/"
        },
        "id": "DLJtczM6ap0q",
        "outputId": "284cd8aa-d60a-45f7-e612-e68116d27e69"
      },
      "execution_count": null,
      "outputs": [
        {
          "output_type": "stream",
          "name": "stdout",
          "text": [
            "   CustomerID   Genre  Age  Annual Income (k$)  Spending Score (1-100)\n",
            "0           1    Male   19                  15                      39\n",
            "1           2    Male   21                  15                      81\n",
            "2           3  Female   20                  16                       6\n",
            "3           4  Female   23                  16                      77\n",
            "4           5  Female   31                  17                      40\n"
          ]
        }
      ]
    },
    {
      "cell_type": "code",
      "source": [
        "print(csv_data.tail())"
      ],
      "metadata": {
        "colab": {
          "base_uri": "https://localhost:8080/"
        },
        "id": "j5tN0MJKbCDN",
        "outputId": "70a673e3-5302-477f-e88b-fe1eb7b562ef"
      },
      "execution_count": null,
      "outputs": [
        {
          "output_type": "stream",
          "name": "stdout",
          "text": [
            "     CustomerID   Genre  Age  Annual Income (k$)  Spending Score (1-100)\n",
            "195         196  Female   35                 120                      79\n",
            "196         197  Female   45                 126                      28\n",
            "197         198    Male   32                 126                      74\n",
            "198         199    Male   32                 137                      18\n",
            "199         200    Male   30                 137                      83\n"
          ]
        }
      ]
    },
    {
      "cell_type": "code",
      "source": [
        "print(csv_data[\"Age\"])"
      ],
      "metadata": {
        "colab": {
          "base_uri": "https://localhost:8080/"
        },
        "id": "wOelaXiEbHTz",
        "outputId": "b5c7adb8-a555-4266-a53f-2f387913f3e4"
      },
      "execution_count": null,
      "outputs": [
        {
          "output_type": "stream",
          "name": "stdout",
          "text": [
            "0      19\n",
            "1      21\n",
            "2      20\n",
            "3      23\n",
            "4      31\n",
            "       ..\n",
            "195    35\n",
            "196    45\n",
            "197    32\n",
            "198    32\n",
            "199    30\n",
            "Name: Age, Length: 200, dtype: int64\n"
          ]
        }
      ]
    },
    {
      "cell_type": "code",
      "source": [
        "print(csv_data[\"Age\"].head())"
      ],
      "metadata": {
        "colab": {
          "base_uri": "https://localhost:8080/"
        },
        "id": "sqfCR44cbU9C",
        "outputId": "fcbc5ce4-8f25-4f8c-dbb0-211f1b548d14"
      },
      "execution_count": null,
      "outputs": [
        {
          "output_type": "stream",
          "name": "stdout",
          "text": [
            "0    19\n",
            "1    21\n",
            "2    20\n",
            "3    23\n",
            "4    31\n",
            "Name: Age, dtype: int64\n"
          ]
        }
      ]
    },
    {
      "cell_type": "code",
      "source": [
        "print(csv_data[\"Age\"].tail())"
      ],
      "metadata": {
        "colab": {
          "base_uri": "https://localhost:8080/"
        },
        "id": "FPUBSkB0beE9",
        "outputId": "1c8c0c46-48e7-4dd7-d7f7-35fbe0435730"
      },
      "execution_count": null,
      "outputs": [
        {
          "output_type": "stream",
          "name": "stdout",
          "text": [
            "195    35\n",
            "196    45\n",
            "197    32\n",
            "198    32\n",
            "199    30\n",
            "Name: Age, dtype: int64\n"
          ]
        }
      ]
    },
    {
      "cell_type": "code",
      "source": [
        "print(csv_data.iloc[5])"
      ],
      "metadata": {
        "colab": {
          "base_uri": "https://localhost:8080/"
        },
        "id": "JoOMFvktbiZi",
        "outputId": "3846e2de-0370-4b85-98d7-6ed25e12ceb4"
      },
      "execution_count": null,
      "outputs": [
        {
          "output_type": "stream",
          "name": "stdout",
          "text": [
            "CustomerID                     6\n",
            "Genre                     Female\n",
            "Age                           22\n",
            "Annual Income (k$)            17\n",
            "Spending Score (1-100)        76\n",
            "Name: 5, dtype: object\n"
          ]
        }
      ]
    },
    {
      "cell_type": "code",
      "source": [
        "print(csv_data[\"Genre\"].iloc[5])"
      ],
      "metadata": {
        "colab": {
          "base_uri": "https://localhost:8080/"
        },
        "id": "LB3D-ZnmbnIv",
        "outputId": "39645a3a-86a4-4bb7-cb78-32ed0d355851"
      },
      "execution_count": null,
      "outputs": [
        {
          "output_type": "stream",
          "name": "stdout",
          "text": [
            "Female\n"
          ]
        }
      ]
    },
    {
      "cell_type": "code",
      "source": [
        "print(csv_data.iloc[5:10])"
      ],
      "metadata": {
        "colab": {
          "base_uri": "https://localhost:8080/"
        },
        "id": "H7UkOAmubtEa",
        "outputId": "788b5214-5224-4801-965d-3d08160e7d2d"
      },
      "execution_count": null,
      "outputs": [
        {
          "output_type": "stream",
          "name": "stdout",
          "text": [
            "   CustomerID   Genre  Age  Annual Income (k$)  Spending Score (1-100)\n",
            "5           6  Female   22                  17                      76\n",
            "6           7  Female   35                  18                       6\n",
            "7           8  Female   23                  18                      94\n",
            "8           9    Male   64                  19                       3\n",
            "9          10  Female   30                  19                      72\n"
          ]
        }
      ]
    },
    {
      "cell_type": "code",
      "source": [
        "print(csv_data[\"Genre\"].iloc[5:10])"
      ],
      "metadata": {
        "colab": {
          "base_uri": "https://localhost:8080/"
        },
        "id": "JSA9qCWvcD7T",
        "outputId": "407ed46d-7bff-4bd5-f235-d81801430fca"
      },
      "execution_count": null,
      "outputs": [
        {
          "output_type": "stream",
          "name": "stdout",
          "text": [
            "5    Female\n",
            "6    Female\n",
            "7    Female\n",
            "8      Male\n",
            "9    Female\n",
            "Name: Genre, dtype: object\n"
          ]
        }
      ]
    },
    {
      "cell_type": "markdown",
      "source": [
        "Menampilkan data statistik dengan pandas"
      ],
      "metadata": {
        "id": "qKz5cnumcV7h"
      }
    },
    {
      "cell_type": "code",
      "source": [
        "import pandas as pd\n",
        "\n",
        "csv_data = pd.read_csv(\"https://storage.googleapis.com/dqlab-dataset/shopping_data.csv\")\n",
        "\n",
        "csv_data.describe()\n",
        "print(csv_data.describe())"
      ],
      "metadata": {
        "colab": {
          "base_uri": "https://localhost:8080/"
        },
        "id": "I_xS1sobcNZO",
        "outputId": "81eb5629-9372-4e66-8072-d7f0550526dc"
      },
      "execution_count": null,
      "outputs": [
        {
          "output_type": "stream",
          "name": "stdout",
          "text": [
            "       CustomerID         Age  Annual Income (k$)  Spending Score (1-100)\n",
            "count  200.000000  200.000000          200.000000              200.000000\n",
            "mean   100.500000   38.850000           60.560000               50.200000\n",
            "std     57.879185   13.969007           26.264721               25.823522\n",
            "min      1.000000   18.000000           15.000000                1.000000\n",
            "25%     50.750000   28.750000           41.500000               34.750000\n",
            "50%    100.500000   36.000000           61.500000               50.000000\n",
            "75%    150.250000   49.000000           78.000000               73.000000\n",
            "max    200.000000   70.000000          137.000000               99.000000\n"
          ]
        }
      ]
    },
    {
      "cell_type": "code",
      "source": [
        "import pandas as pd\n",
        "\n",
        "csv_data = pd.read_csv(\"https://storage.googleapis.com/dqlab-dataset/shopping_data.csv\")\n",
        "\n",
        "csv_data.describe(include=\"all\")\n",
        "\n",
        "print(csv_data.describe(include=\"all\"))"
      ],
      "metadata": {
        "colab": {
          "base_uri": "https://localhost:8080/"
        },
        "id": "kIYRYQkxcioF",
        "outputId": "5f89cd34-3f1d-4e95-ec1e-55e0eff62f05"
      },
      "execution_count": null,
      "outputs": [
        {
          "output_type": "stream",
          "name": "stdout",
          "text": [
            "        CustomerID   Genre         Age  Annual Income (k$)  \\\n",
            "count   200.000000     200  200.000000          200.000000   \n",
            "unique         NaN       2         NaN                 NaN   \n",
            "top            NaN  Female         NaN                 NaN   \n",
            "freq           NaN     112         NaN                 NaN   \n",
            "mean    100.500000     NaN   38.850000           60.560000   \n",
            "std      57.879185     NaN   13.969007           26.264721   \n",
            "min       1.000000     NaN   18.000000           15.000000   \n",
            "25%      50.750000     NaN   28.750000           41.500000   \n",
            "50%     100.500000     NaN   36.000000           61.500000   \n",
            "75%     150.250000     NaN   49.000000           78.000000   \n",
            "max     200.000000     NaN   70.000000          137.000000   \n",
            "\n",
            "        Spending Score (1-100)  \n",
            "count               200.000000  \n",
            "unique                     NaN  \n",
            "top                        NaN  \n",
            "freq                       NaN  \n",
            "mean                 50.200000  \n",
            "std                  25.823522  \n",
            "min                   1.000000  \n",
            "25%                  34.750000  \n",
            "50%                  50.000000  \n",
            "75%                  73.000000  \n",
            "max                  99.000000  \n"
          ]
        }
      ]
    },
    {
      "cell_type": "code",
      "source": [
        "#untuk memunculkan data numerical saja gunakan exclude=[\"O\"]\n",
        "\n",
        "print(csv_data.describe(exclude=\"O\"))"
      ],
      "metadata": {
        "colab": {
          "base_uri": "https://localhost:8080/"
        },
        "id": "t04CBT2ZcpSM",
        "outputId": "fda01637-e0e8-4b33-ce10-e9cd805eec7f"
      },
      "execution_count": null,
      "outputs": [
        {
          "output_type": "stream",
          "name": "stdout",
          "text": [
            "       CustomerID         Age  Annual Income (k$)  Spending Score (1-100)\n",
            "count  200.000000  200.000000          200.000000              200.000000\n",
            "mean   100.500000   38.850000           60.560000               50.200000\n",
            "std     57.879185   13.969007           26.264721               25.823522\n",
            "min      1.000000   18.000000           15.000000                1.000000\n",
            "25%     50.750000   28.750000           41.500000               34.750000\n",
            "50%    100.500000   36.000000           61.500000               50.000000\n",
            "75%    150.250000   49.000000           78.000000               73.000000\n",
            "max    200.000000   70.000000          137.000000               99.000000\n"
          ]
        }
      ]
    },
    {
      "cell_type": "markdown",
      "source": [
        "Data Missing hingga normalisasi data\n",
        "\n",
        "1. lakukan pengecekan apakah ada data kosong atau tidak (null)\n",
        "\n"
      ],
      "metadata": {
        "id": "zPEth0vIdvao"
      }
    },
    {
      "cell_type": "code",
      "source": [
        "import pandas as pd\n",
        "\n",
        "csv_data = pd.read_csv(\"https://storage.googleapis.com/dqlab-dataset/shopping_data_missingvalue.csv\")\n",
        "\n",
        "print(csv_data.isnull())"
      ],
      "metadata": {
        "colab": {
          "base_uri": "https://localhost:8080/"
        },
        "id": "8RZmr2Irdo9Q",
        "outputId": "8bc1e6a3-92c5-41ba-fc36-ba1ee5d564f9"
      },
      "execution_count": null,
      "outputs": [
        {
          "output_type": "stream",
          "name": "stdout",
          "text": [
            "     CustomerID  Genre    Age  Annual Income (k$)  Spending Score (1-100)\n",
            "0         False  False  False               False                   False\n",
            "1         False  False   True               False                   False\n",
            "2         False  False  False                True                   False\n",
            "3         False  False  False               False                   False\n",
            "4         False  False  False               False                    True\n",
            "..          ...    ...    ...                 ...                     ...\n",
            "195       False  False  False               False                   False\n",
            "196       False  False  False               False                   False\n",
            "197       False  False  False               False                   False\n",
            "198       False  False  False               False                   False\n",
            "199       False  False  False               False                   False\n",
            "\n",
            "[200 rows x 5 columns]\n"
          ]
        }
      ]
    },
    {
      "cell_type": "code",
      "source": [
        "print(csv_data.isnull().values.any())"
      ],
      "metadata": {
        "colab": {
          "base_uri": "https://localhost:8080/"
        },
        "id": "geiU5w9GeF3m",
        "outputId": "0afa64e2-8de0-4c0b-b25a-8a683328d7c0"
      },
      "execution_count": null,
      "outputs": [
        {
          "output_type": "stream",
          "name": "stdout",
          "text": [
            "True\n"
          ]
        }
      ]
    },
    {
      "cell_type": "code",
      "source": [
        "print(csv_data.mean())"
      ],
      "metadata": {
        "colab": {
          "base_uri": "https://localhost:8080/"
        },
        "id": "SYRNoBfteP6r",
        "outputId": "6b8d701d-bc16-439b-be7f-7bde64fa6a8e"
      },
      "execution_count": null,
      "outputs": [
        {
          "output_type": "stream",
          "name": "stdout",
          "text": [
            "CustomerID                100.500000\n",
            "Age                        38.939698\n",
            "Annual Income (k$)         61.005051\n",
            "Spending Score (1-100)     50.489899\n",
            "dtype: float64\n"
          ]
        },
        {
          "output_type": "stream",
          "name": "stderr",
          "text": [
            "<ipython-input-36-108f53623270>:1: FutureWarning: Dropping of nuisance columns in DataFrame reductions (with 'numeric_only=None') is deprecated; in a future version this will raise TypeError.  Select only valid columns before calling the reduction.\n",
            "  print(csv_data.mean())\n"
          ]
        }
      ]
    },
    {
      "cell_type": "code",
      "source": [
        "print(csv_data.mean(numeric_only=True))"
      ],
      "metadata": {
        "colab": {
          "base_uri": "https://localhost:8080/"
        },
        "id": "IrCzI0DZfLR9",
        "outputId": "c2621137-b331-47b3-90b5-d0940c4ee128"
      },
      "execution_count": null,
      "outputs": [
        {
          "output_type": "stream",
          "name": "stdout",
          "text": [
            "CustomerID                100.500000\n",
            "Age                        38.939698\n",
            "Annual Income (k$)         61.005051\n",
            "Spending Score (1-100)     50.489899\n",
            "dtype: float64\n"
          ]
        }
      ]
    },
    {
      "cell_type": "code",
      "source": [
        "print(csv_data.head(10))"
      ],
      "metadata": {
        "colab": {
          "base_uri": "https://localhost:8080/"
        },
        "id": "KGhLLveafjl9",
        "outputId": "31116add-91f3-46b3-f24c-ab9fc09c8ad5"
      },
      "execution_count": null,
      "outputs": [
        {
          "output_type": "stream",
          "name": "stdout",
          "text": [
            "   CustomerID   Genre   Age  Annual Income (k$)  Spending Score (1-100)\n",
            "0           1    Male  19.0                15.0                    39.0\n",
            "1           2    Male   NaN                15.0                    81.0\n",
            "2           3  Female  20.0                 NaN                     6.0\n",
            "3           4  Female  23.0                16.0                    77.0\n",
            "4           5  Female  31.0                17.0                     NaN\n",
            "5           6  Female  22.0                 NaN                    76.0\n",
            "6           7  Female  35.0                18.0                     6.0\n",
            "7           8  Female  23.0                18.0                    94.0\n",
            "8           9    Male  64.0                19.0                     NaN\n",
            "9          10  Female  30.0                19.0                    72.0\n"
          ]
        }
      ]
    },
    {
      "cell_type": "code",
      "source": [
        "#ternyata masih terdapat data kosong, maka kita coba isi data kosong tersebut dengan rata-rata\n",
        "\n",
        "import pandas as pd\n",
        "\n",
        "csv_data = pd.read_csv(\"https://storage.googleapis.com/dqlab-dataset/shopping_data_missingvalue.csv\")\n",
        "\n",
        "print(csv_data.mean())\n",
        "\n",
        "print(\"Data set yang masih terdapat nilai kosong ! :\")\n",
        "print(csv_data.head(10))\n",
        "\n",
        "csv_data_mean =csv_data.fillna(csv_data.mean())\n",
        "\n",
        "print(\"Dataset yang sudah diproses Handling Missing Values dengan Mean :\")\n",
        "print(csv_data_mean)"
      ],
      "metadata": {
        "colab": {
          "base_uri": "https://localhost:8080/"
        },
        "id": "F0o0xWPQgeAH",
        "outputId": "f17b5dff-5dc3-4dd7-e44a-40eba708ae4c"
      },
      "execution_count": null,
      "outputs": [
        {
          "output_type": "stream",
          "name": "stdout",
          "text": [
            "CustomerID                100.500000\n",
            "Age                        38.939698\n",
            "Annual Income (k$)         61.005051\n",
            "Spending Score (1-100)     50.489899\n",
            "dtype: float64\n",
            "Data set yang masih terdapat nilai kosong ! :\n",
            "   CustomerID   Genre   Age  Annual Income (k$)  Spending Score (1-100)\n",
            "0           1    Male  19.0                15.0                    39.0\n",
            "1           2    Male   NaN                15.0                    81.0\n",
            "2           3  Female  20.0                 NaN                     6.0\n",
            "3           4  Female  23.0                16.0                    77.0\n",
            "4           5  Female  31.0                17.0                     NaN\n",
            "5           6  Female  22.0                 NaN                    76.0\n",
            "6           7  Female  35.0                18.0                     6.0\n",
            "7           8  Female  23.0                18.0                    94.0\n",
            "8           9    Male  64.0                19.0                     NaN\n",
            "9          10  Female  30.0                19.0                    72.0\n",
            "Dataset yang sudah diproses Handling Missing Values dengan Mean :\n",
            "     CustomerID   Genre        Age  Annual Income (k$)  Spending Score (1-100)\n",
            "0             1    Male  19.000000           15.000000               39.000000\n",
            "1             2    Male  38.939698           15.000000               81.000000\n",
            "2             3  Female  20.000000           61.005051                6.000000\n",
            "3             4  Female  23.000000           16.000000               77.000000\n",
            "4             5  Female  31.000000           17.000000               50.489899\n",
            "..          ...     ...        ...                 ...                     ...\n",
            "195         196  Female  35.000000          120.000000               79.000000\n",
            "196         197  Female  45.000000          126.000000               28.000000\n",
            "197         198    Male  32.000000          126.000000               74.000000\n",
            "198         199    Male  32.000000          137.000000               18.000000\n",
            "199         200    Male  30.000000          137.000000               83.000000\n",
            "\n",
            "[200 rows x 5 columns]\n"
          ]
        },
        {
          "output_type": "stream",
          "name": "stderr",
          "text": [
            "<ipython-input-46-fa249613db95>:7: FutureWarning: Dropping of nuisance columns in DataFrame reductions (with 'numeric_only=None') is deprecated; in a future version this will raise TypeError.  Select only valid columns before calling the reduction.\n",
            "  print(csv_data.mean())\n",
            "<ipython-input-46-fa249613db95>:12: FutureWarning: Dropping of nuisance columns in DataFrame reductions (with 'numeric_only=None') is deprecated; in a future version this will raise TypeError.  Select only valid columns before calling the reduction.\n",
            "  csv_data_mean =csv_data.fillna(csv_data.mean())\n"
          ]
        }
      ]
    },
    {
      "cell_type": "code",
      "source": [
        "print(csv_data_mean)\n",
        "print(csv_data_mean.isnull().values.any())"
      ],
      "metadata": {
        "colab": {
          "base_uri": "https://localhost:8080/"
        },
        "id": "V2cdb8v-hGH4",
        "outputId": "dda80041-4de7-44e3-d27c-308acca83ef7"
      },
      "execution_count": null,
      "outputs": [
        {
          "output_type": "stream",
          "name": "stdout",
          "text": [
            "     CustomerID   Genre        Age  Annual Income (k$)  Spending Score (1-100)\n",
            "0             1    Male  19.000000           15.000000               39.000000\n",
            "1             2    Male  38.939698           15.000000               81.000000\n",
            "2             3  Female  20.000000           61.005051                6.000000\n",
            "3             4  Female  23.000000           16.000000               77.000000\n",
            "4             5  Female  31.000000           17.000000               50.489899\n",
            "..          ...     ...        ...                 ...                     ...\n",
            "195         196  Female  35.000000          120.000000               79.000000\n",
            "196         197  Female  45.000000          126.000000               28.000000\n",
            "197         198    Male  32.000000          126.000000               74.000000\n",
            "198         199    Male  32.000000          137.000000               18.000000\n",
            "199         200    Male  30.000000          137.000000               83.000000\n",
            "\n",
            "[200 rows x 5 columns]\n",
            "False\n"
          ]
        }
      ]
    },
    {
      "cell_type": "code",
      "source": [
        "#mengisi dengan median\n",
        "\n",
        "import pandas as pd\n",
        "\n",
        "csv_data = pd.read_csv(\"https://storage.googleapis.com/dqlab-dataset/shopping_data_missingvalue.csv\")\n",
        "\n",
        "print(csv_data.median(numeric_only=True))\n",
        "\n",
        "print(csv_data.isnull().values.any())\n",
        "\n",
        "#karena masih terdapat missing value maka kita gunakan median untuk mengisi nilai kosong\n",
        "\n",
        "csv_data_median = csv_data.fillna(csv_data.median(numeric_only=True))\n",
        "\n",
        "print(csv_data_median)\n",
        "\n",
        "print(csv_data_median.isnull().values.any())\n"
      ],
      "metadata": {
        "colab": {
          "base_uri": "https://localhost:8080/"
        },
        "id": "qtIVkXkJh4fA",
        "outputId": "13d34b8b-0118-406e-f5fe-02994b1b473f"
      },
      "execution_count": null,
      "outputs": [
        {
          "output_type": "stream",
          "name": "stdout",
          "text": [
            "CustomerID                100.5\n",
            "Age                        36.0\n",
            "Annual Income (k$)         62.0\n",
            "Spending Score (1-100)     50.0\n",
            "dtype: float64\n",
            "True\n",
            "     CustomerID   Genre   Age  Annual Income (k$)  Spending Score (1-100)\n",
            "0             1    Male  19.0                15.0                    39.0\n",
            "1             2    Male  36.0                15.0                    81.0\n",
            "2             3  Female  20.0                62.0                     6.0\n",
            "3             4  Female  23.0                16.0                    77.0\n",
            "4             5  Female  31.0                17.0                    50.0\n",
            "..          ...     ...   ...                 ...                     ...\n",
            "195         196  Female  35.0               120.0                    79.0\n",
            "196         197  Female  45.0               126.0                    28.0\n",
            "197         198    Male  32.0               126.0                    74.0\n",
            "198         199    Male  32.0               137.0                    18.0\n",
            "199         200    Male  30.0               137.0                    83.0\n",
            "\n",
            "[200 rows x 5 columns]\n",
            "False\n"
          ]
        }
      ]
    },
    {
      "cell_type": "code",
      "source": [
        "print(csv_data_median.head(10))"
      ],
      "metadata": {
        "colab": {
          "base_uri": "https://localhost:8080/"
        },
        "id": "rbc2xizbiKkH",
        "outputId": "063717ab-997c-47e5-a4b2-182bd9b71fef"
      },
      "execution_count": null,
      "outputs": [
        {
          "output_type": "stream",
          "name": "stdout",
          "text": [
            "   CustomerID   Genre   Age  Annual Income (k$)  Spending Score (1-100)\n",
            "0           1    Male  19.0                15.0                    39.0\n",
            "1           2    Male  36.0                15.0                    81.0\n",
            "2           3  Female  20.0                62.0                     6.0\n",
            "3           4  Female  23.0                16.0                    77.0\n",
            "4           5  Female  31.0                17.0                    50.0\n",
            "5           6  Female  22.0                62.0                    76.0\n",
            "6           7  Female  35.0                18.0                     6.0\n",
            "7           8  Female  23.0                18.0                    94.0\n",
            "8           9    Male  64.0                19.0                    50.0\n",
            "9          10  Female  30.0                19.0                    72.0\n"
          ]
        }
      ]
    },
    {
      "cell_type": "code",
      "source": [
        "'''\n",
        "Normalisasi data\n",
        "1. MinMax\n",
        "2. Z-Score\n",
        "3. Decimal Scaling\n",
        "4. Softmax\n",
        "5. Sigmoid\n",
        "\n",
        "'''"
      ],
      "metadata": {
        "colab": {
          "base_uri": "https://localhost:8080/",
          "height": 52
        },
        "id": "GHPIETlTjWI4",
        "outputId": "b23430c7-79af-4b7d-ed2e-1a1f9d8a2743"
      },
      "execution_count": null,
      "outputs": [
        {
          "output_type": "execute_result",
          "data": {
            "text/plain": [
              "'\\nNormalisasi data\\n1. MinMax\\n2. Z-Score\\n3. Decimal Scaling\\n4. Softmax\\n5. Sigmoid\\n\\n'"
            ],
            "application/vnd.google.colaboratory.intrinsic+json": {
              "type": "string"
            }
          },
          "metadata": {},
          "execution_count": 61
        }
      ]
    },
    {
      "cell_type": "code",
      "source": [
        "#Praktek Normalisasi menggunakan scikit learn pada python\n",
        "\n",
        "import pandas as pd\n",
        "import numpy as np\n",
        "from sklearn import preprocessing\n",
        "\n",
        "csv_data = pd.read_csv(\"https://storage.googleapis.com/dqlab-dataset/shopping_data.csv\")\n",
        "\n",
        "#print(csv_data.values)\n",
        "\n",
        "array = csv_data.values\n",
        "\n",
        "X = array [:,2:5]\n",
        "Y = array [:,0:1]\n",
        "\n",
        "dataset = pd.DataFrame ({\"CustomerID\":array[:,0], \"Gender\":array[:,1],\"Age\" : array [:,2], \"Income\":array[:,3], \"Spending Score\":array[:,4] })\n",
        "print(\"dataset sebelum dinormalisasi :\")\n",
        "print(dataset.head(10))\n",
        "\n",
        "min_max_scaler = preprocessing.MinMaxScaler(feature_range=(0,1)) #inisialisasi normalisasi MinMax\n",
        "data = min_max_scaler.fit_transform(X) #transformasi MinMax untuk fitur\n",
        "dataset = pd.DataFrame ({\"Age\":data[:,0], \"Income\":data[:,1], \"Spending Score\":data[:,2], \"CustomerID\":array[:,0], \"Gender\":array[:,1]})\n",
        "\n",
        "print(\"dataset setelah dinormalisasi : \")\n",
        "print(dataset.head(10))\n"
      ],
      "metadata": {
        "colab": {
          "base_uri": "https://localhost:8080/"
        },
        "id": "9mymHnKRprpr",
        "outputId": "d37bda5e-4ffc-4632-9f0f-74604233063f"
      },
      "execution_count": 73,
      "outputs": [
        {
          "output_type": "stream",
          "name": "stdout",
          "text": [
            "dataset sebelum dinormalisasi :\n",
            "  CustomerID  Gender Age Income Spending Score\n",
            "0          1    Male  19     15             39\n",
            "1          2    Male  21     15             81\n",
            "2          3  Female  20     16              6\n",
            "3          4  Female  23     16             77\n",
            "4          5  Female  31     17             40\n",
            "5          6  Female  22     17             76\n",
            "6          7  Female  35     18              6\n",
            "7          8  Female  23     18             94\n",
            "8          9    Male  64     19              3\n",
            "9         10  Female  30     19             72\n",
            "dataset setelah dinormalisasi : \n",
            "        Age    Income  Spending Score CustomerID  Gender\n",
            "0  0.019231  0.000000        0.387755          1    Male\n",
            "1  0.057692  0.000000        0.816327          2    Male\n",
            "2  0.038462  0.008197        0.051020          3  Female\n",
            "3  0.096154  0.008197        0.775510          4  Female\n",
            "4  0.250000  0.016393        0.397959          5  Female\n",
            "5  0.076923  0.016393        0.765306          6  Female\n",
            "6  0.326923  0.024590        0.051020          7  Female\n",
            "7  0.096154  0.024590        0.948980          8  Female\n",
            "8  0.884615  0.032787        0.020408          9    Male\n",
            "9  0.230769  0.032787        0.724490         10  Female\n"
          ]
        }
      ]
    },
    {
      "cell_type": "code",
      "source": [],
      "metadata": {
        "id": "giI6nbLbqDqT"
      },
      "execution_count": null,
      "outputs": []
    }
  ]
}